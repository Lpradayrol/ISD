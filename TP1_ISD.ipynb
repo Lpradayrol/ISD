{
  "nbformat": 4,
  "nbformat_minor": 0,
  "metadata": {
    "colab": {
      "name": "TP1_ISD.ipynb",
      "provenance": [],
      "collapsed_sections": [],
      "include_colab_link": true
    },
    "kernelspec": {
      "display_name": "Python 3",
      "language": "python",
      "name": "python3"
    },
    "language_info": {
      "codemirror_mode": {
        "name": "ipython",
        "version": 3
      },
      "file_extension": ".py",
      "mimetype": "text/x-python",
      "name": "python",
      "nbconvert_exporter": "python",
      "pygments_lexer": "ipython3",
      "version": "3.6.6"
    }
  },
  "cells": [
    {
      "cell_type": "markdown",
      "metadata": {
        "id": "view-in-github",
        "colab_type": "text"
      },
      "source": [
        "<a href=\"https://colab.research.google.com/github/Lpradayrol/ISD/blob/main/TP1_ISD.ipynb\" target=\"_parent\"><img src=\"https://colab.research.google.com/assets/colab-badge.svg\" alt=\"Open In Colab\"/></a>"
      ]
    },
    {
      "cell_type": "markdown",
      "metadata": {
        "id": "7HDpECWMH0tB"
      },
      "source": [
        "# Introduction à la Science de Données\n",
        "# TP1 - Prise en main de python et de Scikit-Learn\n",
        "\n",
        "## 1. Python\n",
        "\n",
        "Python est un langage de programmation simple, qui peut être interprété dans un shell (terminal) ou via une interface comme celle-ci (on peut même éventuellement compiler du code python). Le plus souvent, nous allons travailler avec des Jupyter Notebook comme celui-ci dans ce cours. Le principe est le suivant : il y a des cellules dans lequel on tape du code (ou du texte, comme ici - double-clicker ici pour voir le code de cette cellule). Un fois le code écrit, on lance la cellule avec le bouton \"Exécuter\" (ou \"Run\"), en haut au milieu, et le code s'exécute ! Top, non ? \n",
        "\n",
        "On essaie ? *Exécuter* cette cellule pour lui redonner son apparence initiale si vous avez double-clické dessus, puis exécuter la suivante."
      ]
    },
    {
      "cell_type": "code",
      "metadata": {
        "id": "-zuNGqREH0tM",
        "outputId": "f35681a7-a2f5-4bc1-89bf-c8f83a57a61b",
        "colab": {
          "base_uri": "https://localhost:8080/",
          "height": 34
        }
      },
      "source": [
        "print(\"Hello world!\")"
      ],
      "execution_count": 1,
      "outputs": [
        {
          "output_type": "stream",
          "text": [
            "Hello world!\n"
          ],
          "name": "stdout"
        }
      ]
    },
    {
      "cell_type": "markdown",
      "metadata": {
        "id": "k5pwGwCJH0tg"
      },
      "source": [
        "### Variables et types\n",
        "Vous devez donc avoir compris que *exécuter* une cellule de code affiche le résultat en dessous.\n",
        "\n",
        "On peut écrire du code python comme si on utilisait une calculette (avec des variables). Même si on fera rapidement des choses plus évoluées, on commence par ça (vous pouvez modifier le contenu des cellule et les exécuter autant de fois que vous voulez) :"
      ]
    },
    {
      "cell_type": "code",
      "metadata": {
        "id": "zWIKwVrKH0tj",
        "outputId": "9e660636-ec57-497d-b727-e5e016057f3e",
        "colab": {
          "base_uri": "https://localhost:8080/",
          "height": 34
        }
      },
      "source": [
        "2"
      ],
      "execution_count": 2,
      "outputs": [
        {
          "output_type": "execute_result",
          "data": {
            "text/plain": [
              "2"
            ]
          },
          "metadata": {
            "tags": []
          },
          "execution_count": 2
        }
      ]
    },
    {
      "cell_type": "code",
      "metadata": {
        "id": "-Ic0fUiDH0ts",
        "outputId": "7ccbd926-3694-4593-c997-9b9b87043d10",
        "colab": {
          "base_uri": "https://localhost:8080/",
          "height": 34
        }
      },
      "source": [
        "2*2"
      ],
      "execution_count": 3,
      "outputs": [
        {
          "output_type": "execute_result",
          "data": {
            "text/plain": [
              "4"
            ]
          },
          "metadata": {
            "tags": []
          },
          "execution_count": 3
        }
      ]
    },
    {
      "cell_type": "code",
      "metadata": {
        "id": "60MSgLvUH0t2"
      },
      "source": [
        "a = 2"
      ],
      "execution_count": 5,
      "outputs": []
    },
    {
      "cell_type": "code",
      "metadata": {
        "id": "QPLcgb-bH0t8",
        "outputId": "bb6c432e-bda3-49fb-aa08-42957b287a24",
        "colab": {
          "base_uri": "https://localhost:8080/",
          "height": 34
        }
      },
      "source": [
        "a*3"
      ],
      "execution_count": 6,
      "outputs": [
        {
          "output_type": "execute_result",
          "data": {
            "text/plain": [
              "6"
            ]
          },
          "metadata": {
            "tags": []
          },
          "execution_count": 6
        }
      ]
    },
    {
      "cell_type": "code",
      "metadata": {
        "id": "R_xhR0ZNH0uB",
        "outputId": "58268bfa-ef4a-46a6-a0ff-d087a8f6813d",
        "colab": {
          "base_uri": "https://localhost:8080/",
          "height": 34
        }
      },
      "source": [
        "type(a)"
      ],
      "execution_count": 7,
      "outputs": [
        {
          "output_type": "execute_result",
          "data": {
            "text/plain": [
              "int"
            ]
          },
          "metadata": {
            "tags": []
          },
          "execution_count": 7
        }
      ]
    },
    {
      "cell_type": "code",
      "metadata": {
        "id": "vQEUCdX3H0uH",
        "outputId": "57aa07ac-a4c9-4428-b4d2-9ec8d16b617f",
        "colab": {
          "base_uri": "https://localhost:8080/",
          "height": 34
        }
      },
      "source": [
        "type(a*0.5)"
      ],
      "execution_count": 8,
      "outputs": [
        {
          "output_type": "execute_result",
          "data": {
            "text/plain": [
              "float"
            ]
          },
          "metadata": {
            "tags": []
          },
          "execution_count": 8
        }
      ]
    },
    {
      "cell_type": "code",
      "metadata": {
        "id": "upv0QMflH0uR"
      },
      "source": [
        "b = a*3"
      ],
      "execution_count": 9,
      "outputs": []
    },
    {
      "cell_type": "code",
      "metadata": {
        "id": "irMp9BEYH0ud",
        "outputId": "f7616a0e-ad51-4011-8af5-7ca9a7091115",
        "colab": {
          "base_uri": "https://localhost:8080/",
          "height": 34
        }
      },
      "source": [
        "b"
      ],
      "execution_count": 10,
      "outputs": [
        {
          "output_type": "execute_result",
          "data": {
            "text/plain": [
              "6"
            ]
          },
          "metadata": {
            "tags": []
          },
          "execution_count": 10
        }
      ]
    },
    {
      "cell_type": "code",
      "metadata": {
        "id": "TUTZnND_H0up",
        "outputId": "cd98cdd3-bfe4-4b05-9af5-55c73b544f95",
        "colab": {
          "base_uri": "https://localhost:8080/",
          "height": 34
        }
      },
      "source": [
        "print(b)"
      ],
      "execution_count": 11,
      "outputs": [
        {
          "output_type": "stream",
          "text": [
            "6\n"
          ],
          "name": "stdout"
        }
      ]
    },
    {
      "cell_type": "code",
      "metadata": {
        "id": "stbBh87OH0uw",
        "outputId": "57500b10-44c5-41a2-e4a8-3bd5f3e2af2c",
        "colab": {
          "base_uri": "https://localhost:8080/",
          "height": 34
        }
      },
      "source": [
        "c, d = 3, 4\n",
        "b = 4*c\n",
        "print(a, b, c, d, b/4, \"Vous suivez ?\")"
      ],
      "execution_count": 12,
      "outputs": [
        {
          "output_type": "stream",
          "text": [
            "2 12 3 4 3.0 Vous suivez ?\n"
          ],
          "name": "stdout"
        }
      ]
    },
    {
      "cell_type": "code",
      "metadata": {
        "id": "hOBBV_QQH0u5",
        "outputId": "82bd6675-8d0c-4b17-d355-7e72987d0461",
        "colab": {
          "base_uri": "https://localhost:8080/",
          "height": 51
        }
      },
      "source": [
        "print(\"Avant : \", a)\n",
        "a += 1\n",
        "print(\"Après : \", a)"
      ],
      "execution_count": 13,
      "outputs": [
        {
          "output_type": "stream",
          "text": [
            "Avant :  2\n",
            "Après :  3\n"
          ],
          "name": "stdout"
        }
      ]
    },
    {
      "cell_type": "code",
      "metadata": {
        "id": "Cu6afqmFH0vB",
        "outputId": "a19bce54-d375-422a-de15-2d4b96328e64",
        "colab": {
          "base_uri": "https://localhost:8080/",
          "height": 51
        }
      },
      "source": [
        "print(2+2)\n",
        "print(\"2\"+\"2\")"
      ],
      "execution_count": 14,
      "outputs": [
        {
          "output_type": "stream",
          "text": [
            "4\n",
            "22\n"
          ],
          "name": "stdout"
        }
      ]
    },
    {
      "cell_type": "code",
      "metadata": {
        "id": "0d6Dh7LmH0vH",
        "outputId": "eba35991-2d52-4589-c3d2-254098ba9701",
        "colab": {
          "base_uri": "https://localhost:8080/",
          "height": 163
        }
      },
      "source": [
        "print(2+\"2\")"
      ],
      "execution_count": 15,
      "outputs": [
        {
          "output_type": "error",
          "ename": "TypeError",
          "evalue": "ignored",
          "traceback": [
            "\u001b[0;31m---------------------------------------------------------------------------\u001b[0m",
            "\u001b[0;31mTypeError\u001b[0m                                 Traceback (most recent call last)",
            "\u001b[0;32m<ipython-input-15-db53bd892eed>\u001b[0m in \u001b[0;36m<module>\u001b[0;34m()\u001b[0m\n\u001b[0;32m----> 1\u001b[0;31m \u001b[0mprint\u001b[0m\u001b[0;34m(\u001b[0m\u001b[0;36m2\u001b[0m\u001b[0;34m+\u001b[0m\u001b[0;34m\"2\"\u001b[0m\u001b[0;34m)\u001b[0m\u001b[0;34m\u001b[0m\u001b[0;34m\u001b[0m\u001b[0m\n\u001b[0m",
            "\u001b[0;31mTypeError\u001b[0m: unsupported operand type(s) for +: 'int' and 'str'"
          ]
        }
      ]
    },
    {
      "cell_type": "markdown",
      "metadata": {
        "id": "d0KS6mhdH0vN"
      },
      "source": [
        "Un type particulier (et central) : les **listes**"
      ]
    },
    {
      "cell_type": "code",
      "metadata": {
        "id": "HKx5S9dWH0vP",
        "outputId": "8b54468f-8cd7-4eb7-954d-9c43269ef39a",
        "colab": {
          "base_uri": "https://localhost:8080/",
          "height": 136
        }
      },
      "source": [
        "li = [0, 1, 2]    # Definition d'une liste en extension\n",
        "\n",
        "print(type(li))\n",
        "print(len(li))\n",
        "print(li[0])\n",
        "\n",
        "print(\"Plus technique :\")\n",
        "print(li[-1])  # En partant de la fin\n",
        "print(li[:2])  # Un morceau contenant le début jusqu'à l'élément indexé par 2 NON inclus\n",
        "print(li[1:])  # Un morceau contenant la fin à partir de l'élément indexé par 1 inclus"
      ],
      "execution_count": 16,
      "outputs": [
        {
          "output_type": "stream",
          "text": [
            "<class 'list'>\n",
            "3\n",
            "0\n",
            "Plus technique :\n",
            "2\n",
            "[0, 1]\n",
            "[1, 2]\n"
          ],
          "name": "stdout"
        }
      ]
    },
    {
      "cell_type": "code",
      "metadata": {
        "id": "VzoIFKBkH0vU",
        "outputId": "9114e00c-8586-4e0e-8287-f75ea94025be",
        "colab": {
          "base_uri": "https://localhost:8080/",
          "height": 51
        }
      },
      "source": [
        "print(li)\n",
        "li[0] = 42\n",
        "li.append(\"éléments de différent types\")\n",
        "print(li)"
      ],
      "execution_count": 17,
      "outputs": [
        {
          "output_type": "stream",
          "text": [
            "[0, 1, 2]\n",
            "[42, 1, 2, 'éléments de différent types']\n"
          ],
          "name": "stdout"
        }
      ]
    },
    {
      "cell_type": "markdown",
      "metadata": {
        "id": "r9cAzqLMH0ve"
      },
      "source": [
        "### Structures de controle\n",
        "Comme tout langage de programmation, on peut utiliser des structures de controle en python, comme des boucles ou des conditionnelles. Et comme les autres langages, cela fonctionne par blocs : qu'est-ce qui s'exécute si le *if* est vrai ? Qu'est-ce qui s'exécute de toute façon ? Qu'est-ce qui est dans la boucle ? etc.\n",
        "\n",
        "La plupart des langages de programmation que vous connaissez matérialisent les blocs par des caractères spéciaux, souvent une accolade *{* pour le commencer et une autre *}* pour le fermer. Ce n'est pas le cas de python : ce langage matérialise les blocs graphiquement, par des espaces. Il faut 4 espaces pour marquer un bloc:"
      ]
    },
    {
      "cell_type": "code",
      "metadata": {
        "id": "Apuv2F5DH0vi",
        "outputId": "1129d81d-7a4d-4c91-82f3-ec3d1f440a77",
        "colab": {
          "base_uri": "https://localhost:8080/",
          "height": 85
        }
      },
      "source": [
        "print(\"On n'est pas dans le if\")     # Ceci est un commentaire\n",
        "if True:\n",
        "    print(\"On est dans le if\")\n",
        "    print(\"Là encore\")\n",
        "print(\"Là on n'y est plus\")"
      ],
      "execution_count": 18,
      "outputs": [
        {
          "output_type": "stream",
          "text": [
            "On n'est pas dans le if\n",
            "On est dans le if\n",
            "Là encore\n",
            "Là on n'y est plus\n"
          ],
          "name": "stdout"
        }
      ]
    },
    {
      "cell_type": "markdown",
      "metadata": {
        "id": "Jh7HcIYpH0vp"
      },
      "source": [
        "Et c'est pareil pour les boucles:"
      ]
    },
    {
      "cell_type": "code",
      "metadata": {
        "id": "ws6gZyCrH0vq",
        "outputId": "a54a5698-d44d-4ce1-9782-c1a9afbb2e83",
        "colab": {
          "base_uri": "https://localhost:8080/",
          "height": 238
        }
      },
      "source": [
        "print(\"Avant la boucle\")\n",
        "for i in range(0, 11):\n",
        "    print(\"Tour de boucle numéro\", i)\n",
        "print(\"Après la boucle\")"
      ],
      "execution_count": 19,
      "outputs": [
        {
          "output_type": "stream",
          "text": [
            "Avant la boucle\n",
            "Tour de boucle numéro 0\n",
            "Tour de boucle numéro 1\n",
            "Tour de boucle numéro 2\n",
            "Tour de boucle numéro 3\n",
            "Tour de boucle numéro 4\n",
            "Tour de boucle numéro 5\n",
            "Tour de boucle numéro 6\n",
            "Tour de boucle numéro 7\n",
            "Tour de boucle numéro 8\n",
            "Tour de boucle numéro 9\n",
            "Tour de boucle numéro 10\n",
            "Après la boucle\n"
          ],
          "name": "stdout"
        }
      ]
    },
    {
      "cell_type": "markdown",
      "metadata": {
        "id": "vX6wRT3jH0v2"
      },
      "source": [
        "##### Boucle et liste\n",
        "On peut remplir des listes avec des boucles:"
      ]
    },
    {
      "cell_type": "code",
      "metadata": {
        "id": "xMuf3fqjH0v3",
        "outputId": "2d122ca8-868b-460b-f6b9-56ba96546bd1",
        "colab": {
          "base_uri": "https://localhost:8080/",
          "height": 34
        }
      },
      "source": [
        "li = []\n",
        "for i in range(10):\n",
        "    li.append(i)\n",
        "print(li)"
      ],
      "execution_count": 20,
      "outputs": [
        {
          "output_type": "stream",
          "text": [
            "[0, 1, 2, 3, 4, 5, 6, 7, 8, 9]\n"
          ],
          "name": "stdout"
        }
      ]
    },
    {
      "cell_type": "markdown",
      "metadata": {
        "id": "FEob5PvDH0v-"
      },
      "source": [
        "(Mais en fait on n'a même pas besoin de boucle explicite !!!!!) :"
      ]
    },
    {
      "cell_type": "code",
      "metadata": {
        "id": "iFf_JCXUH0wC",
        "outputId": "3f0c2b54-e623-4957-908b-757a4fae982b",
        "colab": {
          "base_uri": "https://localhost:8080/",
          "height": 34
        }
      },
      "source": [
        "li = [i*2 for i in range(10)]\n",
        "print(li)"
      ],
      "execution_count": 21,
      "outputs": [
        {
          "output_type": "stream",
          "text": [
            "[0, 2, 4, 6, 8, 10, 12, 14, 16, 18]\n"
          ],
          "name": "stdout"
        }
      ]
    },
    {
      "cell_type": "markdown",
      "metadata": {
        "id": "UwxQAlndH0wL"
      },
      "source": [
        "##### Combinaison\n",
        "Bien entendu, c'est récursif : on peut mettre des blocs dans des blocs qui contiennent des blocks, etc.\n",
        "\n",
        "**Question** Alors, que fait le code ci-dessous ? Que valent a et b à la fin ? "
      ]
    },
    {
      "cell_type": "code",
      "metadata": {
        "id": "fHOiyJpwH0wN"
      },
      "source": [
        "a, b = 0, 0\n",
        "for i in range(10):\n",
        "    if a % 2 == 0:\n",
        "        a+=i\n",
        "        if b < 5:\n",
        "            a-=i\n",
        "        else:\n",
        "            b+=i\n",
        "    else:\n",
        "        b-=i"
      ],
      "execution_count": 25,
      "outputs": []
    },
    {
      "cell_type": "markdown",
      "metadata": {
        "id": "fW4gf7YnH0wY"
      },
      "source": [
        "#### A vous !\n",
        "**Question** Insérez 1 cellule ci-dessous (cliquez ici puis utilisez le menu du haut...). Puis écrivez y le code qui calcule et affiche la somme des 10 premiers entiers au carré."
      ]
    },
    {
      "cell_type": "code",
      "metadata": {
        "id": "3Varq7l5xs2M",
        "outputId": "7e102785-81ff-468f-9804-aefb9f48e871",
        "colab": {
          "base_uri": "https://localhost:8080/",
          "height": 34
        }
      },
      "source": [
        "sum = 0;\n",
        "for i in range(10):\n",
        "  sum += i**2\n",
        "print(sum)"
      ],
      "execution_count": 35,
      "outputs": [
        {
          "output_type": "stream",
          "text": [
            "285\n"
          ],
          "name": "stdout"
        }
      ]
    },
    {
      "cell_type": "markdown",
      "metadata": {
        "id": "Db5MLZ_TH0wZ"
      },
      "source": [
        "**Question** Dans la cellule suivante, écrire un code comprenant 1 boucle et 1 conditionelle qui tire un nombre au hasard entre 1 et 100 et qui laisse 10 chances à l'utilisateur pour trouver ce nombre. On utilisera une bibliothèque (on dit *module* en python) qui génère des nombres aléatoires en l'important:"
      ]
    },
    {
      "cell_type": "code",
      "metadata": {
        "id": "wi2Qfar_H0wa",
        "outputId": "5d4cbb80-279b-4105-9834-39a769369b68",
        "colab": {
          "base_uri": "https://localhost:8080/",
          "height": 374
        }
      },
      "source": [
        "import random   # On importe la librairie\n",
        "a_trouver = random.randint(0,100)    # On on génère alétoirement un nombre\n",
        "for i in range(0,10):\n",
        "  mon_nombre = input(\"Entrer un nombre: \") # On demande à rentrer un nombre\n",
        "  if int(mon_nombre) != a_trouver:\n",
        "    print(\"Recommencez\")\n",
        "  else:\n",
        "    print(\"Gagné\")\n",
        "print(\"Perdu, le nombre à trouver était: \" + str(a_trouver))\n",
        "# A vous de jouer !"
      ],
      "execution_count": 42,
      "outputs": [
        {
          "output_type": "stream",
          "text": [
            "Entrer un nombre: 55\n",
            "Recommencez\n",
            "Entrer un nombre: 3\n",
            "Recommencez\n",
            "Entrer un nombre: 5\n",
            "Recommencez\n",
            "Entrer un nombre: 13\n",
            "Recommencez\n",
            "Entrer un nombre: 75\n",
            "Recommencez\n",
            "Entrer un nombre: 65\n",
            "Recommencez\n",
            "Entrer un nombre: 32\n",
            "Recommencez\n",
            "Entrer un nombre: 16\n",
            "Recommencez\n",
            "Entrer un nombre: 91\n",
            "Recommencez\n",
            "Entrer un nombre: 99\n",
            "Recommencez\n",
            "Perdu, le nombre à trouver était: 41\n"
          ],
          "name": "stdout"
        }
      ]
    },
    {
      "cell_type": "markdown",
      "metadata": {
        "id": "QQ5qhjrkH0wi"
      },
      "source": [
        "### Fonctions\n",
        "Bien entendu, il est possible de définir et d'utiliser des fonctions en python:"
      ]
    },
    {
      "cell_type": "code",
      "metadata": {
        "id": "jLKlsxU9H0wj"
      },
      "source": [
        "def carre(x):\n",
        "    return x*x"
      ],
      "execution_count": 29,
      "outputs": []
    },
    {
      "cell_type": "code",
      "metadata": {
        "id": "K7BKTsPvH0wr",
        "outputId": "f369e351-a741-4821-febb-d4c7f7a543eb",
        "colab": {
          "base_uri": "https://localhost:8080/",
          "height": 34
        }
      },
      "source": [
        "carre(2)"
      ],
      "execution_count": 30,
      "outputs": [
        {
          "output_type": "execute_result",
          "data": {
            "text/plain": [
              "4"
            ]
          },
          "metadata": {
            "tags": []
          },
          "execution_count": 30
        }
      ]
    },
    {
      "cell_type": "markdown",
      "metadata": {
        "id": "6irEAB32H0wv"
      },
      "source": [
        "Et on peut même renvoyer plusieurs valeurs:"
      ]
    },
    {
      "cell_type": "code",
      "metadata": {
        "id": "Fu0XSRNzH0wx",
        "outputId": "233488ae-d553-4c3a-99d6-05aea5a2c655",
        "colab": {
          "base_uri": "https://localhost:8080/",
          "height": 51
        }
      },
      "source": [
        "def trois_suivants(x):\n",
        "    return (x+1, x+2, x+3)\n",
        "S = trois_suivants(5)\n",
        "print(S)\n",
        "print(S[1])"
      ],
      "execution_count": 31,
      "outputs": [
        {
          "output_type": "stream",
          "text": [
            "(6, 7, 8)\n",
            "7\n"
          ],
          "name": "stdout"
        }
      ]
    },
    {
      "cell_type": "markdown",
      "metadata": {
        "id": "09xb5GHBH0w6"
      },
      "source": [
        "Attention, un tuple (comme le triplet que retourne cette fonction) n'est pas mutable: il contient une ou des valeurs qui ne sont pas modifiables. "
      ]
    },
    {
      "cell_type": "code",
      "metadata": {
        "id": "UftmCrHPH0w7",
        "outputId": "db44c83b-e67d-4285-d966-411d5ea93eef",
        "colab": {
          "base_uri": "https://localhost:8080/",
          "height": 163
        }
      },
      "source": [
        "S[1]=3   # Ceci va donc donner un erreur !"
      ],
      "execution_count": 32,
      "outputs": [
        {
          "output_type": "error",
          "ename": "TypeError",
          "evalue": "ignored",
          "traceback": [
            "\u001b[0;31m---------------------------------------------------------------------------\u001b[0m",
            "\u001b[0;31mTypeError\u001b[0m                                 Traceback (most recent call last)",
            "\u001b[0;32m<ipython-input-32-3b221297ced0>\u001b[0m in \u001b[0;36m<module>\u001b[0;34m()\u001b[0m\n\u001b[0;32m----> 1\u001b[0;31m \u001b[0mS\u001b[0m\u001b[0;34m[\u001b[0m\u001b[0;36m1\u001b[0m\u001b[0;34m]\u001b[0m\u001b[0;34m=\u001b[0m\u001b[0;36m3\u001b[0m   \u001b[0;31m# Ceci va donc donner un erreur !\u001b[0m\u001b[0;34m\u001b[0m\u001b[0;34m\u001b[0m\u001b[0m\n\u001b[0m",
            "\u001b[0;31mTypeError\u001b[0m: 'tuple' object does not support item assignment"
          ]
        }
      ]
    },
    {
      "cell_type": "markdown",
      "metadata": {
        "id": "7W_gAjnNH0xG"
      },
      "source": [
        "Si vous voulez modifier les valeurs, il faut faire une liste:"
      ]
    },
    {
      "cell_type": "code",
      "metadata": {
        "id": "bIhbEqbvH0xH",
        "outputId": "26b8d1d7-d95a-48e9-b3a1-eca2b21647c3",
        "colab": {
          "base_uri": "https://localhost:8080/",
          "height": 68
        }
      },
      "source": [
        "L = list(S)\n",
        "print(L)\n",
        "L[1] = 3\n",
        "print(L)\n",
        "print(S)"
      ],
      "execution_count": 33,
      "outputs": [
        {
          "output_type": "stream",
          "text": [
            "[6, 7, 8]\n",
            "[6, 3, 8]\n",
            "(6, 7, 8)\n"
          ],
          "name": "stdout"
        }
      ]
    },
    {
      "cell_type": "markdown",
      "metadata": {
        "id": "BOesqxEpH0xK"
      },
      "source": [
        "Ou alors, vous récuperez les valeurs de la fonction dans des variables séparées :"
      ]
    },
    {
      "cell_type": "code",
      "metadata": {
        "id": "6NRZCj-5H0xL"
      },
      "source": [
        "x_1, x_2, x_3 = trois_suivants(42)\n",
        "print(x_1, x_2, x_3)\n",
        "x_1 = 24\n",
        "print(x_1)"
      ],
      "execution_count": null,
      "outputs": []
    },
    {
      "cell_type": "markdown",
      "metadata": {
        "id": "FMjdW9AqH0xN"
      },
      "source": [
        "## 2. Scikit-Learn\n",
        "Scikit-learn est un logiciel écrit en Python, qui nécessite l'installation préalable du langage  Python et des librairies  *NumPy* et  *SciPy* (pour le calcul scientifique), dans des versions qui doivent vérifier certaines contraintes de compatibilité. Sur votre machine personnelle, le plus simple est d'installer une distribution de Python complète, comme Anaconda (https://docs.anaconda.com/anaconda/install/), qui comprend la plupart des librairies courantes développées en Python, dont les trois citées plus haut. Sur les PC de la salle, tout est normalement installé...\n",
        "\n",
        "Le site officiel du logiciel  Scikit-learn est :  http://scikit-learn.org/stable/index.html \n",
        "\n",
        "La documentation en ligne est complète, et devra être consultée chaque fois que nécessaire :\n",
        " \thttp://scikit-learn.org/stable/documentation.html \n",
        "    \n",
        "Des tutoriaux sont disponibles a l'adresse suivante :\n",
        " \thttp://scikit-learn.org/stable/tutorial/index.html\n",
        "\n",
        "### Jeux de données en Scikit-Learn\n",
        "\n",
        "Un certain nombre de jeux de données sont disponibles dans scikit-learn. Il est également possible de générer des données artificielles ou de récupérer des données externes (on fera ça dans les prochains TPs).\n",
        "\n",
        "Documentation relative au chargement de jeux de données :\n",
        "\thttp://scikit-learn.org/stable/datasets/ \n",
        "\n",
        "Les jeux de données disponibles dans scikit-learn sont : iris, boston, diabetes, digits, linnerud, sample images, 20newsgroups.\n",
        "Chacun de ces jeux de données se récupère à l'aide de la commande load_nom-jeu qu'il faut dans un premier temps charger. Par exemple, pour récupérer le jeu iris :"
      ]
    },
    {
      "cell_type": "code",
      "metadata": {
        "id": "KGE3DxB1H0xO"
      },
      "source": [
        "from sklearn.datasets import load_iris  #importation de la commande\n",
        "irisData = load_iris()"
      ],
      "execution_count": null,
      "outputs": []
    },
    {
      "cell_type": "markdown",
      "metadata": {
        "id": "qhM6j0I2H0xQ"
      },
      "source": [
        "On se retrouve alors avec une variable qui contient le jeu de données (ici on l'a appelé *irisData*)\n",
        "\n",
        "Les variables des jeux de données comprennent un certain nombres d'attributs parmi (tous ne sont pas toujours définis) : data, target, target_names, feature_names, DESCR :\n",
        "- *.data* est un tableau de dimensions *(n,m)*. Chacune des *n* lignes correspond à une donnée, chacune des *m* colonnes à un attribut \n",
        "- *.target* stocke les classes (étiquettes/label) de chaque instance (dans le cas supervisé) : c'est un vecteur de taille *n* dont la première valeur est la classe de la donnée de la première ligne de la matrice .data, la deuxième valeur est la classe de la deuxième ligne, etc.\n",
        "- *.target_names* contient le nom des classes\n",
        "- *.feature_names* contient le nom des attributs\n",
        "- *.DESCR* est un texte décrivant le jeu de données."
      ]
    },
    {
      "cell_type": "code",
      "metadata": {
        "id": "TdZWSqHiH0xT",
        "outputId": "681b8eae-d2b3-447b-8944-5e2847afdeb3",
        "colab": {
          "base_uri": "https://localhost:8080/",
          "height": 163
        }
      },
      "source": [
        "irisData.data"
      ],
      "execution_count": 44,
      "outputs": [
        {
          "output_type": "error",
          "ename": "NameError",
          "evalue": "ignored",
          "traceback": [
            "\u001b[0;31m---------------------------------------------------------------------------\u001b[0m",
            "\u001b[0;31mNameError\u001b[0m                                 Traceback (most recent call last)",
            "\u001b[0;32m<ipython-input-44-1a243117dd4d>\u001b[0m in \u001b[0;36m<module>\u001b[0;34m()\u001b[0m\n\u001b[0;32m----> 1\u001b[0;31m \u001b[0mirisData\u001b[0m\u001b[0;34m.\u001b[0m\u001b[0mdata\u001b[0m\u001b[0;34m\u001b[0m\u001b[0;34m\u001b[0m\u001b[0m\n\u001b[0m",
            "\u001b[0;31mNameError\u001b[0m: name 'irisData' is not defined"
          ]
        }
      ]
    },
    {
      "cell_type": "code",
      "metadata": {
        "id": "OXkitLY6H0xU"
      },
      "source": [
        "irisData.target"
      ],
      "execution_count": null,
      "outputs": []
    },
    {
      "cell_type": "code",
      "metadata": {
        "id": "ZwU_r-XwH0xZ",
        "outputId": "b3703bb8-c0e2-4fe1-c0d0-65afa67103bc",
        "colab": {
          "base_uri": "https://localhost:8080/",
          "height": 34
        }
      },
      "source": [
        "irisData.target_names"
      ],
      "execution_count": 46,
      "outputs": [
        {
          "output_type": "execute_result",
          "data": {
            "text/plain": [
              "array(['setosa', 'versicolor', 'virginica'], dtype='<U10')"
            ]
          },
          "metadata": {
            "tags": []
          },
          "execution_count": 46
        }
      ]
    },
    {
      "cell_type": "markdown",
      "metadata": {
        "id": "G0IU_jmpH0xc"
      },
      "source": [
        "Noter que le type de tous ces éléments est *array*, un type très utile et central en python pour nous (en fait, le vrai type est s'appelle *ndarray* qui est un type propre à numpy : faites type(irisData.target) par exemple pour vous en assurer : il ne faut pas toujours croire ce que le notebook affiche !)"
      ]
    },
    {
      "cell_type": "markdown",
      "metadata": {
        "id": "Safe4zN-H0xd"
      },
      "source": [
        "##### Le jeu de données Iris (Fisher, 1936)\n",
        "Iris est un ensemble (=jeu) de données introduit en 1936 par R. Fisher comme un exemple d'analyse discriminante. Cet ensemble contient 150 exemples de critères observés sur 3 espèces différentes d'iris de Gaspésie (Setosa, Versicolor, Verginica). Chaque exemple est composé de quatre attributs (longueur et largeur des sépales en cm, longueur et largeur des pétales en cm) et d'une classe (l'espèce).\n",
        "\n",
        "**Question.** Exécutez **une à une** les commandes suivantes et comprenez ce qu'elles réalisent (vous aurez à les réutiliser)."
      ]
    },
    {
      "cell_type": "code",
      "metadata": {
        "id": "FHIaHRZKH0xi",
        "outputId": "921f6f62-aa9a-4f2d-e4b6-3bfe663d8a3f",
        "colab": {
          "base_uri": "https://localhost:8080/",
          "height": 34
        }
      },
      "source": [
        "from sklearn.datasets import load_iris  #importation de la commande\n",
        "irisData = load_iris()\n",
        "\n",
        "len(irisData.data)\n",
        "irisData.target_names[0]\n",
        "irisData.target_names[2]\n",
        "irisData.target_names[-1]\n",
        "irisData.target_names[len(irisData.target_names) - 1]\n",
        "irisData.data.shape\n",
        "irisData.data[0]\n",
        "irisData.data[0][1]\n",
        "irisData.data[:,1]    # Celle-ci, il faut vraiment la comprendre !\n",
        "irisData.data[irisData.target==0]    # Et celle-ci aussi !!!\n",
        "irisData.data[:][1]  # pourquoi n'a-t-on pas le même résultat qu'avec [:,1] ?"
      ],
      "execution_count": 47,
      "outputs": [
        {
          "output_type": "execute_result",
          "data": {
            "text/plain": [
              "array([4.9, 3. , 1.4, 0.2])"
            ]
          },
          "metadata": {
            "tags": []
          },
          "execution_count": 47
        }
      ]
    },
    {
      "cell_type": "code",
      "metadata": {
        "id": "mQ_CFome9c7v",
        "outputId": "b036061b-fac3-4120-ca5b-7ba965969b35",
        "colab": {
          "base_uri": "https://localhost:8080/",
          "height": 34
        }
      },
      "source": [
        "from sklearn.datasets import load_iris  #importation de la commande\n",
        "irisData = load_iris()\n",
        "\n",
        "#len(irisData.data) #150\n",
        "\n",
        "#irisData.target_names[0] #setosa\n",
        "#irisData.target_names[2] #virginica\n",
        "#irisData.target_names[-1] #virginica\n",
        "\n",
        "#irisData.target_names[len(irisData.target_names)] # OoB\n",
        "#irisData.target_names[len(irisData.target_names) - 1] # virginica\n",
        "#irisData.data.shape # (150, 4)\n",
        "\n",
        "#irisData.data[0] # array([5.1, 3.5, 1.4, 0.2])\n",
        "\n",
        "#irisData.data[0][1] # 3.5\n",
        "#irisData.data[:,1]    # Celle-ci, il faut vraiment la comprendre !\n",
        "#irisData.data[irisData.target==0]    # Et celle-ci aussi !!!\n",
        "#irisData.data[:][1]  # pourquoi n'a-t-on pas le même résultat qu'avec [:,1] ?"
      ],
      "execution_count": 60,
      "outputs": [
        {
          "output_type": "execute_result",
          "data": {
            "text/plain": [
              "array([4.9, 3. , 1.4, 0.2])"
            ]
          },
          "metadata": {
            "tags": []
          },
          "execution_count": 60
        }
      ]
    },
    {
      "cell_type": "markdown",
      "metadata": {
        "id": "0yI3SusIH0xn"
      },
      "source": [
        "Vous avez eu une erreur ? Pourquoi ? Refléchissez...\n",
        "\n",
        "Et assurez vous de tester toutes les lignes, quite à créer de nouvelles cellules (ou à mettre en commentaire les lignes déjà testées, ou qui génèrent des erreurs)"
      ]
    },
    {
      "cell_type": "markdown",
      "metadata": {
        "id": "SEFjsCJUH0xo"
      },
      "source": [
        "##### Visualiser les données\n",
        "Scikit-Learn  intègre la librairie matplotlib  (http://matplotlib.org/) qui propose de très nombreuses primitives permettant de faire des dessins, et la librairie pylab, qui intègre les librairies NumPy, SciPy  et Matplotlib .\n",
        "\n",
        "Exécutez les commandes suivantes et comprenez ce qu'elles réalisent :"
      ]
    },
    {
      "cell_type": "code",
      "metadata": {
        "id": "6DGx0G1SH0xq"
      },
      "source": [
        "%matplotlib inline     # Commande uniquement Notebook : permet l'affichage des courbes\n",
        "import matplotlib.pyplot as plt        #permet d'importer 'pyplot' et de remplacer son nom par 'plt'\n",
        "X = irisData.data\n",
        "Color = irisData.target\n",
        "abscisse = 0\n",
        "ordonnee = 1\n",
        "\n",
        "plt.scatter(X[:, abscisse], X[:, ordonnee], c=Color)   # Définition des abscisses et des ordonnées, ainsi que de la couleur\n",
        "plt.show()    # Affichage de la courbe"
      ],
      "execution_count": null,
      "outputs": []
    },
    {
      "cell_type": "markdown",
      "metadata": {
        "id": "knCEqH8DH0x1"
      },
      "source": [
        "C'est bien mais pas super : il manque de l'information pour être une vraie courbe. On améliore :"
      ]
    },
    {
      "cell_type": "code",
      "metadata": {
        "id": "MieZPNfeH0x2"
      },
      "source": [
        "plt.xlabel(irisData.feature_names[abscisse])    # Nomage de l'axe des abscisses\n",
        "plt.ylabel(irisData.feature_names[ordonnee])    # Nomage de l'axe des ordonnées   \n",
        "plt.title(\"Données Iris - Dimensions des sépales uniquement\") # Et il faut un tritre\n",
        "\n",
        "plt.scatter(X[:, abscisse], X[:, ordonnee], c=Color)   # Re-éfinition des abscisses, ordonnées, et couleurs\n",
        "plt.show()\n"
      ],
      "execution_count": null,
      "outputs": []
    },
    {
      "cell_type": "markdown",
      "metadata": {
        "id": "LyVDdnW1H0x8"
      },
      "source": [
        "ça commence à ressembler à quelque chose, non ? Reste 2 petits problèmes : il manque la légende pour expliquer le code couleur, et les couleurs ne sont pas très belles (ça c'est une question de goût, mais quand même). Voilà un façon (un peu différente) d'y remédier :"
      ]
    },
    {
      "cell_type": "code",
      "metadata": {
        "id": "u-7semNOH0x9"
      },
      "source": [
        "y = irisData.target\n",
        "colors=[\"red\",\"green\",\"blue\"]\n",
        "differentes_target = set(irisData.target)    # Enlève les doublons\n",
        "for i in differentes_target:\n",
        "\tplt.scatter(X[y==i][:, abscisse],X[y==i][:,ordonnee],color=colors[i], label=irisData.target_names[i])\n",
        "plt.legend()\n",
        "plt.xlabel(irisData.feature_names[abscisse])\n",
        "plt.ylabel(irisData.feature_names[ordonnee])\n",
        "plt.title(\"Données Iris - dimensions des sépales uniquement\")\n",
        "plt.show()"
      ],
      "execution_count": null,
      "outputs": []
    },
    {
      "cell_type": "markdown",
      "metadata": {
        "id": "PHKRGAP0H0yB"
      },
      "source": [
        "**Question.** Les données iris sont décrites par 4 attributs. Il y a 6 en 2 dimensions manières d'en regarder 2. En modifiant le code ci-dessus, déterminez visuellement le couple d'attributs qui semble le mieux a même de séparer clairement les exemples des 3 classes d'iris."
      ]
    },
    {
      "cell_type": "code",
      "metadata": {
        "id": "nDRnfz_vH0yD"
      },
      "source": [
        "# A vous"
      ],
      "execution_count": null,
      "outputs": []
    },
    {
      "cell_type": "markdown",
      "metadata": {
        "id": "tIRdxF14H0yF"
      },
      "source": [
        "##### Extraire des statistiques des données\n",
        "Un autre type de données est très utile : les dictionnaires. Alors qu'une liste est indéxée par des entiers positifs, un dictionnaire peut être indexé par (presque) tout :"
      ]
    },
    {
      "cell_type": "code",
      "metadata": {
        "id": "nkHo1lzjH0yH"
      },
      "source": [
        "d = {}    # Création d'un dictionnaire vide\n",
        "d = {\"film\":[\"Ready Player One\", \"Magnolia\"], \"duree\": [120, 90], 42:[\"et\", \"oui\"] }\n",
        "print(d[\"film\"])\n",
        "print(\"Les clés : \", d.keys())\n",
        "print(\"Les valeurs : \", d.values())\n",
        "d[\"film\"].append(\"Les valseuses\")\n",
        "d[\"Annee\"]=2018\n",
        "print(\"A la fin : \", d)"
      ],
      "execution_count": null,
      "outputs": []
    },
    {
      "cell_type": "markdown",
      "metadata": {
        "id": "uBFz8-O-H0yI"
      },
      "source": [
        "**Question.** En lisant les données une par une, remplir un dictionnaire *dico* dont les clés sont : \"petal_length\", \"petal_width\", \"sepal_length\", \"sepal_width\""
      ]
    },
    {
      "cell_type": "code",
      "metadata": {
        "id": "HJCiePktH0yJ"
      },
      "source": [
        "# A vous"
      ],
      "execution_count": null,
      "outputs": []
    },
    {
      "cell_type": "markdown",
      "metadata": {
        "id": "-cRc9ADcH0yL"
      },
      "source": [
        "**Question.** Ecrire une fonction display_stat qui prend en entrée un dictionnaire avec les clés de la question précédente et renvoie les statistiques 'moyenne', 'valeur max', 'valeur min', et 'déviation standard' pour chacun des 4 attributs. Ces fonctions sont toutes déjà définies dans le module numpy. Le résultat pourra se présenter sous la forme d'un tableau (pas aussi beau, là c'est du markdown):\n",
        "\n",
        "| Attribut | min | max | moyenne | std |\n",
        "| --- | --- | --- | --- | --- |\n",
        "| sepal_length | 4.30 | 7.90 | 5.84 | 0.83 |\n",
        "| sepal_width | 2.00 |4.40 | 3.05 | 0.43 |\n",
        "| petal_length | 1.00 | 6.90 | 3.76 | 1.76 |\n",
        "| petal_width | 0.10 | 1.20 | 0.76 | 1.00 |\n",
        "\n",
        "   sepal length: 4.3  7.9   5.84  0.83    0.7826   \n",
        "    sepal width: 2.0  4.4   3.05  0.43   -0.4194\n",
        "   petal length: 1.0  6.9   3.76  1.76    0.9490  (high!)\n",
        "    petal width: 0.1  2.5   1.20  0.76    0.9565  (high!)\n"
      ]
    },
    {
      "cell_type": "code",
      "metadata": {
        "id": "gq6BaF8UH0yM"
      },
      "source": [
        "import numpy as np\n",
        "# A vous"
      ],
      "execution_count": null,
      "outputs": []
    },
    {
      "cell_type": "markdown",
      "metadata": {
        "id": "Klbj_dFtH0yP"
      },
      "source": [
        "**Question.** Utiliser cette fonction sur les données pour chacune des classes. Pour cela, il pourrait être utile de créer un dictionnaire par classe..."
      ]
    },
    {
      "cell_type": "code",
      "metadata": {
        "id": "8zS6moYdH0yQ"
      },
      "source": [
        "# A vous"
      ],
      "execution_count": null,
      "outputs": []
    },
    {
      "cell_type": "markdown",
      "metadata": {
        "id": "WXkhXIZCl8YW"
      },
      "source": [
        "## 3. ACP\n",
        "\n",
        "Nous allons maintenant s'intéresser à la méthode ACP pour la réduction de dimension et la visualisation. Pour cela, nous allons utiliser le jeu de données de chiffrs manuscriptes `digits`.\n",
        "\n",
        " ![img](https://www.tensorflow.org/images/MNIST.png)"
      ]
    },
    {
      "cell_type": "markdown",
      "metadata": {
        "id": "KlbXp2fcrDUc"
      },
      "source": [
        "Le jeu de données `digits` est aussi disponible dans scikit-learn. Téléchargez le jeu de données `digits`.\n",
        "\n"
      ]
    },
    {
      "cell_type": "code",
      "metadata": {
        "id": "3Uy4ii_kl_uB"
      },
      "source": [
        "from sklearn.datasets import load_digits\n",
        "digits = load_digits()\n"
      ],
      "execution_count": null,
      "outputs": []
    },
    {
      "cell_type": "markdown",
      "metadata": {
        "id": "0eg7c94Ms7iY"
      },
      "source": [
        "Affichez la taille du jeu de données."
      ]
    },
    {
      "cell_type": "code",
      "metadata": {
        "id": "aKN8PZbutDZZ"
      },
      "source": [
        "digits.data.shape"
      ],
      "execution_count": null,
      "outputs": []
    },
    {
      "cell_type": "markdown",
      "metadata": {
        "id": "1Rd34e16tKHV"
      },
      "source": [
        "Le jeu de données contient 1797 données. Chaque donnée est un vecteur de 64 valeurs. Ces valeurs correspondent aux pixels d'une image de taille $8 \\times 8$. Affichons quelques données."
      ]
    },
    {
      "cell_type": "code",
      "metadata": {
        "id": "ay3Ojdf1uFBv"
      },
      "source": [
        "import matplotlib.pyplot as plt\n",
        "from itertools import product\n",
        "\n",
        "images = digits.images.astype(np.int_)\n",
        "print(images.shape)\n",
        "\n",
        "n_rows = 8\n",
        "n_cols = 8\n",
        "\n",
        "fig, ax = plt.subplots(nrows=n_rows, ncols=n_cols, figsize=(10, 10))\n",
        "for i, j in product(range(n_rows), range(n_cols)):\n",
        "    k = n_cols * i + j\n",
        "    image = images[k,0:8,0:8]\n",
        "    ax[i, j].imshow(image, cmap='binary', interpolation='none')\n",
        "    ax[i, j].axis('off')\n",
        "\n",
        "plt.show()\n",
        "plt.close()\n"
      ],
      "execution_count": null,
      "outputs": []
    },
    {
      "cell_type": "markdown",
      "metadata": {
        "id": "y5hV_XyuyKIi"
      },
      "source": [
        "Nous allons maintenant projeter les données dans un espace dans un espace de plus petite dimension utilisant l'ACP. Nous pouvons par exemple les projeter dans un espace de dimension 2. C'est à dire que nous allons transformer chaque donnée de dimension 64 en une donnée de dimension 2."
      ]
    },
    {
      "cell_type": "code",
      "metadata": {
        "id": "iE5JqZzTynhr"
      },
      "source": [
        "pca = PCA(2)  # projection de dim 64 à dim 2\n",
        "donnees_projetes = pca.fit_transform(digits.data)\n",
        "print(digits.data.shape)\n",
        "print(donnees_projetes.shape)"
      ],
      "execution_count": null,
      "outputs": []
    },
    {
      "cell_type": "markdown",
      "metadata": {
        "id": "h0EIsyEUzQJq"
      },
      "source": [
        "Nous pouvons donc afficher les données projetées dans un graphique 2D."
      ]
    },
    {
      "cell_type": "code",
      "metadata": {
        "id": "YC0L1auwzbvV"
      },
      "source": [
        "plt.figure(figsize=(10, 6))\n",
        "plt.scatter(donnees_projetes[:, 0], donnees_projetes[:, 1], c=digits.target, edgecolor='none', alpha=0.5,\n",
        "            cmap=plt.cm.get_cmap('nipy_spectral', 10))\n",
        "plt.xlabel('composante 1')\n",
        "plt.ylabel('composante 2')\n",
        "plt.colorbar();"
      ],
      "execution_count": null,
      "outputs": []
    },
    {
      "cell_type": "markdown",
      "metadata": {
        "id": "jyBus-8k1HFS"
      },
      "source": [
        "Analyser le résultat obtenu."
      ]
    }
  ]
}